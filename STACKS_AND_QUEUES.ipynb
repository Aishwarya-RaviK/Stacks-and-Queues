{
  "nbformat": 4,
  "nbformat_minor": 0,
  "metadata": {
    "colab": {
      "provenance": []
    },
    "kernelspec": {
      "name": "python3",
      "display_name": "Python 3"
    },
    "language_info": {
      "name": "python"
    }
  },
  "cells": [
    {
      "cell_type": "markdown",
      "source": [
        "# **STACKS**"
      ],
      "metadata": {
        "id": "m1FBz7Nrt64a"
      }
    },
    {
      "cell_type": "markdown",
      "source": [
        "It is a linear data structure. \n",
        "\n",
        "Stacks follows Last In First Out technique. \n",
        "\n",
        "**Example** : Stack of books[ books piled over one another]\n",
        "\n",
        "**Functions used in stacks**:\n",
        "\n",
        "1. Push(x) --- Used to insert an element in stack\n",
        "\n",
        "2. Pop(x) --- Remove the element \n",
        "\n",
        "3. Size() --- Gives the size or length of the stack\n",
        "\n",
        "4. Top() --- Gives the top most element of the stack\n",
        "\n",
        "5. Empty() --- Tells us whether the stack is empty or not\n"
      ],
      "metadata": {
        "id": "hzAVRmiut9Pq"
      }
    },
    {
      "cell_type": "markdown",
      "source": [
        "**WAYS TO IMPLEMENT STACKS**\n",
        "1. USING LIST\n",
        "\n",
        "2. USING DEQUEUE CLASS OF COLLECTION MODULE\n",
        "\n",
        "3. USING LIFO QUEUES"
      ],
      "metadata": {
        "id": "iJ8Xv1_mwBJR"
      }
    },
    {
      "cell_type": "markdown",
      "source": [
        "Time Complexity = O(n) --- Stack is created using list\n",
        "\n",
        "Time Complexity = O(1) --- Stack is created using dequeue \n",
        "\n",
        "Time Complexity = O(1) --- Stack is created using LifoQueue\n",
        "\n",
        "Now the append and pop operation are faster in dequeue compared to list."
      ],
      "metadata": {
        "id": "St0xog2dwtGZ"
      }
    },
    {
      "cell_type": "markdown",
      "source": [
        "1. STACKS USING LISTS"
      ],
      "metadata": {
        "id": "XFw7x3NP1VHg"
      }
    },
    {
      "cell_type": "code",
      "execution_count": null,
      "metadata": {
        "colab": {
          "base_uri": "https://localhost:8080/"
        },
        "id": "MyHB9o7xtwd0",
        "outputId": "762fcf11-305a-4054-d011-a89b3485339f"
      },
      "outputs": [
        {
          "output_type": "stream",
          "name": "stdout",
          "text": [
            "4\n",
            "[4, 9, 0, 7]\n",
            "7\n",
            "3\n",
            "Not Empty\n"
          ]
        }
      ],
      "source": [
        "# STACKS USING LIST\n",
        "stack=[]\n",
        "val=int(input())\n",
        "stack.append(val)\n",
        "stack.append(9)\n",
        "stack.append(0)\n",
        "stack.append(7)\n",
        "print(stack)\n",
        "print(stack.pop())\n",
        "print(len(stack))\n",
        "if(len(stack)==0):\n",
        "  print(\"Empty\")\n",
        "else:\n",
        "  print(\"Not Empty\")"
      ]
    },
    {
      "cell_type": "markdown",
      "source": [
        "2. STACKS USING DEQUEUES"
      ],
      "metadata": {
        "id": "4Jsmr0jk1UIT"
      }
    },
    {
      "cell_type": "code",
      "source": [
        "from collections import deque\n",
        "stack=deque()\n",
        "stack.append(1)\n",
        "stack.append(2)\n",
        "stack.append(3)\n",
        "print(stack.pop())\n",
        "print(stack)\n"
      ],
      "metadata": {
        "colab": {
          "base_uri": "https://localhost:8080/"
        },
        "id": "LQ79-9qF1aSX",
        "outputId": "85e02f4a-4c13-44c8-bdae-323139e50536"
      },
      "execution_count": null,
      "outputs": [
        {
          "output_type": "stream",
          "name": "stdout",
          "text": [
            "3\n",
            "deque([1, 2])\n"
          ]
        }
      ]
    },
    {
      "cell_type": "markdown",
      "source": [
        "3. STACKS USING QUEUES"
      ],
      "metadata": {
        "id": "QWkv927k4XzP"
      }
    },
    {
      "cell_type": "code",
      "source": [
        "from queue import LifoQueue\n",
        "stack=LifoQueue(maxsize=8)\n",
        "stack.put(9)\n",
        "stack.put(0)\n",
        "stack.put(7)\n",
        "stack.put(3)\n",
        "stack.put(2)\n",
        "stack.put(1)\n",
        "stack.get()\n",
        "print(stack.full())\n",
        "print(stack.qsize())"
      ],
      "metadata": {
        "colab": {
          "base_uri": "https://localhost:8080/"
        },
        "id": "oLtgvO2z4bZv",
        "outputId": "5f6ef910-8357-495b-a32b-21b64e1414cb"
      },
      "execution_count": null,
      "outputs": [
        {
          "output_type": "stream",
          "name": "stdout",
          "text": [
            "False\n",
            "5\n"
          ]
        }
      ]
    },
    {
      "cell_type": "markdown",
      "source": [
        "**Important Stacks Programs**"
      ],
      "metadata": {
        "id": "Bv1ZHFCt5rbf"
      }
    },
    {
      "cell_type": "markdown",
      "source": [
        "1. VALID PARENTHESES\n",
        "\n",
        "The parantheses must not begin with any of closing brackets, as soon as we remove a closing parenthesis with open parentheses"
      ],
      "metadata": {
        "id": "iLCYccQj8wY2"
      }
    },
    {
      "cell_type": "code",
      "source": [
        "def isvalid(s):\n",
        "  stack=[]\n",
        "  pairs={\")\":\"(\",\"]\":\"[\",\"}\":\"{\"}\n",
        "  for i in s:\n",
        "    if i in pairs:\n",
        "      if stack and stack[-1]==pairs[i]:\n",
        "        stack.pop()\n",
        "      else:\n",
        "        return False\n",
        "    else:\n",
        "      stack.append(i)\n",
        "  return True if not stack else False\n",
        "s=\"((()))\"\n",
        "isvalid(s)"
      ],
      "metadata": {
        "id": "ynm2FTtU5vxv",
        "colab": {
          "base_uri": "https://localhost:8080/"
        },
        "outputId": "411f9b1f-ca9d-44da-e638-9dc82093559e"
      },
      "execution_count": null,
      "outputs": [
        {
          "output_type": "execute_result",
          "data": {
            "text/plain": [
              "True"
            ]
          },
          "metadata": {},
          "execution_count": 4
        }
      ]
    },
    {
      "cell_type": "markdown",
      "source": [
        "2. IMPLEMENT STACKS USING QUEUES"
      ],
      "metadata": {
        "id": "WrKaKLc7AV4N"
      }
    },
    {
      "cell_type": "code",
      "source": [
        "from queue import LifoQueue \n",
        "stack=LifoQueue(maxsize=10)\n",
        "stack.put(9)\n",
        "stack.put(0)\n",
        "stack.put(7)\n",
        "stack.put(6)\n",
        "stack.put(3)\n",
        "stack.put(1)\n",
        "print(stack)\n",
        "print(stack.get())\n",
        "print(stack.qsize())\n",
        "print(stack.full())"
      ],
      "metadata": {
        "colab": {
          "base_uri": "https://localhost:8080/"
        },
        "id": "J5F5KBP0AaM0",
        "outputId": "95cfb55d-885a-45e7-9867-b56f5d6dc863"
      },
      "execution_count": null,
      "outputs": [
        {
          "output_type": "stream",
          "name": "stdout",
          "text": [
            "<queue.LifoQueue object at 0x7ff0ec182ee0>\n",
            "1\n",
            "5\n",
            "False\n"
          ]
        }
      ]
    },
    {
      "cell_type": "markdown",
      "source": [
        "3. IMPLEMENT QUEUES USING STACKS\n",
        "\n",
        "**Queues** --- It is a linear data structure and follows FIFO method.\n",
        "\n",
        "**Time Complexity**:\n",
        "\n",
        "ENQUEUE - O(n)\n",
        "\n",
        "DEQUEUE - O(1)"
      ],
      "metadata": {
        "id": "Y_NVCkNNIYnm"
      }
    },
    {
      "cell_type": "code",
      "source": [
        "class Queue:\n",
        "  def __init__(self):\n",
        "    self.s1=[]\n",
        "    self.s2=[]\n",
        "  def enqueue(self,x):\n",
        "    while(len(self.s1)!=0):\n",
        "      self.s2.append(self.s1[-1])\n",
        "      self.s1.pop()\n",
        "    self.s1.append(x)\n",
        "    while(len(self.s2)!=0):\n",
        "      self.s1.append(self.s2[-1])\n",
        "      self.s2.pop()\n",
        "    return self.s1\n",
        "  def dequeue(self):\n",
        "    if(len(self.s1)==0):\n",
        "      print(\"The queue is empty\")\n",
        "    x=self.s1[-1]\n",
        "    self.s1.pop()\n",
        "    return x \n",
        "if __name__ == '__main__':\n",
        "  q=Queue()\n",
        "  print(q.enqueue(2))\n",
        "  print(q.enqueue(9))\n",
        "  print(q.enqueue(0))\n",
        "  print(q.enqueue(3))\n",
        "  print(q.dequeue())"
      ],
      "metadata": {
        "colab": {
          "base_uri": "https://localhost:8080/"
        },
        "id": "5d1LzYjEIhD1",
        "outputId": "fcf6e9e1-9b8b-4d46-a8e0-7a5711daeb11"
      },
      "execution_count": null,
      "outputs": [
        {
          "output_type": "stream",
          "name": "stdout",
          "text": [
            "[2]\n",
            "[9, 2]\n",
            "[0, 9, 2]\n",
            "[3, 0, 9, 2]\n",
            "2\n"
          ]
        }
      ]
    },
    {
      "cell_type": "markdown",
      "source": [
        "# **QUEUES**"
      ],
      "metadata": {
        "id": "8eGWIe8ETLiF"
      }
    },
    {
      "cell_type": "markdown",
      "source": [
        "Queues are linear data structure which follows FIFO approach.\n",
        "\n",
        "Here insertion of elements takes place at one end(back end) where deletion takes place at the other end(front end)."
      ],
      "metadata": {
        "id": "0ZF4x6NzTO2U"
      }
    },
    {
      "cell_type": "markdown",
      "source": [
        "**OPERATIONS ON QUEUES**:\n",
        "\n",
        "ENQUEUE - USED TO INSERT THE ELEMENT AT THE TOP\n",
        "\n",
        "DEQUEUE - REMOVES THE TOP ELEMENT FROM THE QUEUE\n",
        "\n",
        "PEEKFIRST - TO GET THE FIRST ELEMENT OF QUEUE\n",
        "\n",
        "PEEKLAST - TO GET THE LAST ELEMENT OF QUEUE\n",
        "\n",
        "TIME COMPLEXITY - All operations will take only constant time. O(1) "
      ],
      "metadata": {
        "id": "VXCpnH8UTqTU"
      }
    },
    {
      "cell_type": "code",
      "source": [
        "class Queue:\n",
        "  def __init__(self):\n",
        "    self.queue=[]\n",
        "  def enqueue(self,val):\n",
        "    self.queue.append(val)\n",
        "  def dequeue(self):\n",
        "    self.queue.pop(0)\n",
        "  def len_queue(self):\n",
        "    return len(self.queue)\n",
        "  def display(self):\n",
        "    print(self.queue)\n",
        "  \n",
        "q=Queue()\n",
        "q.enqueue(9)\n",
        "q.enqueue(0)\n",
        "q.enqueue(8)\n",
        "q.enqueue(4)\n",
        "q.enqueue(2)\n",
        "q.enqueue(1)\n",
        "q.dequeue()\n",
        "q.display()\n",
        "q.len_queue()"
      ],
      "metadata": {
        "colab": {
          "base_uri": "https://localhost:8080/"
        },
        "id": "EIfRJIRaTp0Y",
        "outputId": "ea77504a-236d-4fd5-a450-d8116a32c453"
      },
      "execution_count": null,
      "outputs": [
        {
          "output_type": "stream",
          "name": "stdout",
          "text": [
            "[0, 8, 4, 2, 1]\n"
          ]
        },
        {
          "output_type": "execute_result",
          "data": {
            "text/plain": [
              "5"
            ]
          },
          "metadata": {},
          "execution_count": 14
        }
      ]
    },
    {
      "cell_type": "markdown",
      "source": [
        "**IMPORTANT QUEUE PROBLEM**"
      ],
      "metadata": {
        "id": "-jpskEAmWyYk"
      }
    },
    {
      "cell_type": "markdown",
      "source": [
        "1. IMPLEMENT STACKS USING QUEUES"
      ],
      "metadata": {
        "id": "u2c-d9afW2_V"
      }
    },
    {
      "cell_type": "code",
      "source": [
        "from collections import deque \n",
        "class stack:\n",
        "  def __init__(self):\n",
        "    self.q1=deque()\n",
        "    self.q2=deque()\n",
        "  def push(self,x):\n",
        "    self.q2.append(x)\n",
        "    while(self.q1):\n",
        "      self.q2.append(self.q1.popleft())\n",
        "    self.q1,self.q2=self.q2,self.q1\n",
        "  def pop(self):\n",
        "    if self.q1:\n",
        "      return self.q1[0]\n",
        "    return None\n",
        "  def size(self):\n",
        "    return len(self.q1)\n",
        "\n"
      ],
      "metadata": {
        "id": "KHn3a9O8W2Yr"
      },
      "execution_count": null,
      "outputs": []
    }
  ]
}